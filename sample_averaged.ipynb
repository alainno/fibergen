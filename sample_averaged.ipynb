{
 "cells": [
  {
   "cell_type": "code",
   "execution_count": null,
   "metadata": {},
   "outputs": [],
   "source": [
    "# generar una muestra sintetica de fibra binaria\n",
    "# generar su promedio del diametro (d1*l1 + d2*l2 + d3*l3 ... dn*ln / l1 + l2 + l3 + ... + ln)"
   ]
  },
  {
   "cell_type": "code",
   "execution_count": 6,
   "metadata": {},
   "outputs": [
    {
     "name": "stdout",
     "output_type": "stream",
     "text": [
      "2.0\n"
     ]
    }
   ],
   "source": [
    "d1 = 2\n",
    "l1 = 10\n",
    "\n",
    "d2 = 2\n",
    "l2 = 100\n",
    "\n",
    "print((d1*l1 + d2*l2)/(l1 + l2))"
   ]
  },
  {
   "cell_type": "code",
   "execution_count": 1,
   "metadata": {},
   "outputs": [],
   "source": [
    "import cv2\n",
    "from fiberrandom import *\n",
    "import numpy as np\n",
    "import matplotlib.pyplot as plt"
   ]
  },
  {
   "cell_type": "code",
   "execution_count": 16,
   "metadata": {},
   "outputs": [
    {
     "name": "stdout",
     "output_type": "stream",
     "text": [
      "<class 'list'>\n"
     ]
    },
    {
     "data": {
      "image/png": "[encoded data removed]",
      "text/plain": [
       "<Figure size 432x288 with 1 Axes>"
      ]
     },
     "metadata": {
      "needs_background": "light"
     },
     "output_type": "display_data"
    },
    {
     "name": "stdout",
     "output_type": "stream",
     "text": [
      "Promedio de diametro: 6.54286130061825\n"
     ]
    },
    {
     "data": {
      "text/plain": [
       "True"
      ]
     },
     "execution_count": 16,
     "metadata": {},
     "output_type": "execute_result"
    }
   ],
   "source": [
    "sample_img = np.zeros((256,256,3), np.uint8)\n",
    "\n",
    "sample = FiberSample(256,256,False)\n",
    "fibers = randint(3,12)\n",
    "#fibers = 2\n",
    "#waves = sample.createRandomWaves(fibers)\n",
    "waves = sample.createRandomWaves(fibers, return_longitude=True)\n",
    "\n",
    "diameter_sum = 0\n",
    "longitud_sum = 0\n",
    "\n",
    "print(type(waves))\n",
    "\n",
    "for wave in waves:\n",
    "    diameter = randint(3,12)\n",
    "    #print('diameter:', diameter)\n",
    "    #print('longitud:', wave[1])\n",
    "    diameter_sum += diameter*wave[1]\n",
    "    longitud_sum += wave[1]\n",
    "    \n",
    "    wave = np.array(wave[0]).astype(int)\n",
    "    wave = wave.reshape((-1,1,2))    \n",
    "    cv2.polylines(sample_img,[wave],False,(255,255,255),diameter,cv2.LINE_AA)\n",
    "    \n",
    "plt.imshow(sample_img)\n",
    "plt.show()\n",
    "\n",
    "fiber_average = diameter_sum / longitud_sum\n",
    "\n",
    "print('Promedio de diametro:', fiber_average)\n",
    "\n",
    "cv2.imwrite(\"_sample.png\", sample_img)"
   ]
  },
  {
   "cell_type": "code",
   "execution_count": 15,
   "metadata": {},
   "outputs": [
    {
     "name": "stdout",
     "output_type": "stream",
     "text": [
      "4.592105263157895\n"
     ]
    }
   ],
   "source": [
    "print((4*124+5*180)/(124+180))"
   ]
  },
  {
   "cell_type": "code",
   "execution_count": null,
   "metadata": {},
   "outputs": [],
   "source": []
  }
 ],
 "metadata": {
  "kernelspec": {
   "display_name": "Python 3",
   "language": "python",
   "name": "python3"
  },
  "language_info": {
   "codemirror_mode": {
    "name": "ipython",
    "version": 3
   },
   "file_extension": ".py",
   "mimetype": "text/x-python",
   "name": "python",
   "nbconvert_exporter": "python",
   "pygments_lexer": "ipython3",
   "version": "3.7.5"
  }
 },
 "nbformat": 4,
 "nbformat_minor": 4
}
