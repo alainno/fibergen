{
 "cells": [
  {
   "cell_type": "code",
   "execution_count": 1,
   "metadata": {},
   "outputs": [],
   "source": [
    "from functions import *\n",
    "from skimage import img_as_bool, io, color, morphology\n",
    "import cv2\n",
    "import h5py"
   ]
  },
  {
   "cell_type": "code",
   "execution_count": 2,
   "metadata": {},
   "outputs": [],
   "source": [
    "path_imgs = \"data_dm/train_data/images/\"\n",
    "path_gts = \"data_dm/train_data/ground-truth/\"\n",
    "path_masks = \"data_dm/train_data/masks/\""
   ]
  },
  {
   "cell_type": "code",
   "execution_count": 3,
   "metadata": {},
   "outputs": [],
   "source": [
    "initDirectory(path_imgs)\n",
    "initDirectory(path_gts)\n",
    "initDirectory(path_masks)"
   ]
  },
  {
   "cell_type": "code",
   "execution_count": 4,
   "metadata": {},
   "outputs": [],
   "source": [
    "train_samples = 500\n",
    "thickness = (1,7)\n",
    "sample_fibers = (2,20) # nro de fibras\n",
    "sample_size = (128, 128)\n",
    "\n",
    "createSamples(path_imgs, sample_size, train_samples, thickness, sample_fibers, \"jpg\", False)"
   ]
  },
  {
   "cell_type": "code",
   "execution_count": 5,
   "metadata": {},
   "outputs": [],
   "source": [
    "import glob\n",
    "\n",
    "img_paths = []\n",
    "#for path in path_sets:\n",
    "for img_path in glob.glob(os.path.join(path_imgs, '*.jpg')):\n",
    "    img_paths.append(img_path)"
   ]
  },
  {
   "cell_type": "code",
   "execution_count": 11,
   "metadata": {},
   "outputs": [],
   "source": [
    "# creando dm files\n",
    "for img_path in img_paths:\n",
    "    image = img_as_bool(color.rgb2gray(io.imread(img_path)))\n",
    "    skeleton, distance = morphology.medial_axis(image, mask=None, return_distance=True)\n",
    "    distanceMapNormalized = distance.copy()\n",
    "    cv2.normalize(distance, distanceMapNormalized, 0, 255, cv2.NORM_MINMAX)\n",
    "    cv2.imwrite(img_path.replace('images','masks'),distanceMapNormalized)\n",
    "    #skeleton = np.where(skeleton==True, 255, 0)\n",
    "    #cv2.imwrite(img_path.replace('images','masks'),skeleton)"
   ]
  },
  {
   "cell_type": "code",
   "execution_count": 8,
   "metadata": {},
   "outputs": [
    {
     "name": "stderr",
     "output_type": "stream",
     "text": [
      "/home/aalejo/anaconda3/envs/iaenv/lib/python3.7/site-packages/skimage/util/dtype.py:131: UserWarning: Possible sign loss when converting negative image of type float64 to positive image of type bool.\n",
      "  .format(dtypeobj_in, dtypeobj_out))\n",
      "/home/aalejo/anaconda3/envs/iaenv/lib/python3.7/site-packages/skimage/util/dtype.py:135: UserWarning: Possible precision loss when converting from float64 to bool\n",
      "  .format(dtypeobj_in, dtypeobj_out))\n"
     ]
    }
   ],
   "source": [
    "# creando h5 files\n",
    "for img_path in img_paths:\n",
    "    image = img_as_bool(color.rgb2gray(io.imread(img_path)))\n",
    "    skeleton, distance = morphology.medial_axis(image, mask=None, return_distance=True)\n",
    "    with h5py.File(img_path.replace('.jpg','.h5').replace('images','ground-truth'), 'w') as hf:\n",
    "        hf['density'] = distance"
   ]
  },
  {
   "cell_type": "code",
   "execution_count": 8,
   "metadata": {},
   "outputs": [
    {
     "data": {
      "text/plain": [
       "<matplotlib.image.AxesImage at 0x7f9d88350110>"
      ]
     },
     "execution_count": 8,
     "metadata": {},
     "output_type": "execute_result"
    },
    {
     "data": {
      "image/png": "[encoded data removed]",
      "text/plain": [
       "<Figure size 432x288 with 1 Axes>"
      ]
     },
     "metadata": {
      "needs_background": "light"
     },
     "output_type": "display_data"
    }
   ],
   "source": [
    "import matplotlib.pyplot as plt\n",
    "from matplotlib import cm as CM\n",
    "\n",
    "gt_file = h5py.File(img_paths[0].replace('.jpg','.h5').replace('images','ground-truth'),'r')\n",
    "groundtruth = np.asarray(gt_file['density'])\n",
    "\n",
    "plt.imshow(groundtruth,cmap=CM.gray)"
   ]
  },
  {
   "cell_type": "code",
   "execution_count": 13,
   "metadata": {},
   "outputs": [
    {
     "data": {
      "text/plain": [
       "<matplotlib.image.AxesImage at 0x7f501180e3d0>"
      ]
     },
     "execution_count": 13,
     "metadata": {},
     "output_type": "execute_result"
    },
    {
     "data": {
      "image/png": "[encoded data removed]",
      "text/plain": [
       "<Figure size 432x288 with 1 Axes>"
      ]
     },
     "metadata": {
      "needs_background": "light"
     },
     "output_type": "display_data"
    }
   ],
   "source": [
    "_img = img_as_bool(color.rgb2gray(io.imread(img_paths[0])))\n",
    "plt.imshow(_img, CM.gray)"
   ]
  },
  {
   "cell_type": "code",
   "execution_count": 15,
   "metadata": {},
   "outputs": [],
   "source": [
    "import json\n",
    "\n",
    "# generamos los archivos json de lectura para el entrenamiento\n",
    "img_paths_train = []\n",
    "img_paths_val = []\n",
    "\n",
    "c = 0\n",
    "for img_path in glob.glob(os.path.join(path_imgs, '*.jpg')):\n",
    "    if c>=400:\n",
    "        img_paths_val.append(img_path)\n",
    "    else:\n",
    "        img_paths_train.append(img_path)\n",
    "    c+=1\n",
    "\n",
    "with open('../demo/train.json', 'w') as f:\n",
    "    json.dump(img_paths_train, f)\n",
    "    \n",
    "with open('../demo/val.json', 'w') as f:\n",
    "    json.dump(img_paths_val, f)"
   ]
  },
  {
   "cell_type": "code",
   "execution_count": null,
   "metadata": {},
   "outputs": [],
   "source": []
  }
 ],
 "metadata": {
  "kernelspec": {
   "display_name": "Python 3",
   "language": "python",
   "name": "python3"
  },
  "language_info": {
   "codemirror_mode": {
    "name": "ipython",
    "version": 3
   },
   "file_extension": ".py",
   "mimetype": "text/x-python",
   "name": "python",
   "nbconvert_exporter": "python",
   "pygments_lexer": "ipython3",
   "version": "3.7.5"
  }
 },
 "nbformat": 4,
 "nbformat_minor": 4
}
