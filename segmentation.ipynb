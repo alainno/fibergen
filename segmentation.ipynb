{
 "cells": [
  {
   "cell_type": "code",
   "execution_count": 3,
   "metadata": {},
   "outputs": [],
   "source": [
    "from functions import *\n",
    "import matplotlib.pyplot as plt\n",
    "from PIL import Image,ImageDraw,ImageOps\n",
    "import PIL"
   ]
  },
  {
   "cell_type": "code",
   "execution_count": 2,
   "metadata": {},
   "outputs": [
    {
     "data": {
      "text/plain": [
       "'8.2.0'"
      ]
     },
     "execution_count": 2,
     "metadata": {},
     "output_type": "execute_result"
    }
   ],
   "source": [
    "PIL.__version__"
   ]
  },
  {
   "cell_type": "code",
   "execution_count": null,
   "metadata": {},
   "outputs": [],
   "source": [
    "#createSamples(target_dir=, sample_size=, samples=, thickness_range=, fibers_range=)"
   ]
  },
  {
   "cell_type": "code",
   "execution_count": 7,
   "metadata": {},
   "outputs": [
    {
     "data": {
      "image/png": "[encoded data removed]",
      "text/plain": [
       "<PIL.Image.Image image mode=RGB size=256x256 at 0x7F30B2AB1050>"
      ]
     },
     "execution_count": 7,
     "metadata": {},
     "output_type": "execute_result"
    }
   ],
   "source": [
    "sample = FiberSample(256,256,printout=False)\n",
    "\n",
    "waves = sample.createRandomWaves(5)\n",
    "\n",
    "pil_img = Image.new('RGB', (256,256), 'white')\n",
    "draw = ImageDraw.Draw(pil_img)\n",
    "#print(waves)\n",
    "np_image = np.zeros((256,256,3), np.uint8)\n",
    "\n",
    "#drawFibers(image, waves, 5, 10)\n",
    "for wave in waves:\n",
    "    diameter = randint(5, 10)\n",
    "    gray = randint(0,100)\n",
    "    draw.line(wave, fill=(gray, gray, gray), width=diameter, joint='curve')\n",
    "    \n",
    "    wave = np.array(wave).astype(int)\n",
    "    wave = wave.reshape((-1,1,2))\n",
    "    cv2.polylines(np_image,[wave],False,(255,255,255),diameter,cv2.LINE_AA)\n",
    "    \n",
    "\n",
    "pil_img"
   ]
  },
  {
   "cell_type": "code",
   "execution_count": 8,
   "metadata": {},
   "outputs": [
    {
     "data": {
      "image/png": "[encoded data removed]",
      "text/plain": [
       "<Figure size 432x288 with 1 Axes>"
      ]
     },
     "metadata": {
      "needs_background": "light"
     },
     "output_type": "display_data"
    }
   ],
   "source": [
    "plt.imshow(np_image)\n",
    "plt.show()"
   ]
  },
  {
   "cell_type": "code",
   "execution_count": 9,
   "metadata": {},
   "outputs": [],
   "source": [
    "'''\n",
    "def createSegmentationSamples(samples_number=500, samples_dir='data_segmentation', samples_size=(256,256)):\n",
    "      for i in range(samples_number):\n",
    "            print('create sample ', i)\n",
    "            sample = FiberSample(sample_size[0], sample_size[1], printout=False)\n",
    "            #sample.\n",
    "            \n",
    "            \n",
    "            sample.saveSegmentationSample(samples_dir, i, extension='png')\n",
    "'''        "
   ]
  },
  {
   "cell_type": "code",
   "execution_count": 5,
   "metadata": {},
   "outputs": [],
   "source": [
    "sample = FiberSample(256,256,printout=False)\n",
    "imgs_dir = 'data_segmentation/images'\n",
    "masks_dir = 'data_segmentation/masks'\n",
    "initDirectory(imgs_dir)\n",
    "initDirectory(masks_dir)\n",
    "\n",
    "for i in range(500):\n",
    "    sample.setFibers((3,10))\n",
    "    sample.setDiameters((3,15))\n",
    "    sample.createSegmentationSample()\n",
    "    sample.saveSegmentationSample(imgs_dir, masks_dir, i)"
   ]
  },
  {
   "cell_type": "code",
   "execution_count": null,
   "metadata": {},
   "outputs": [],
   "source": []
  }
 ],
 "metadata": {
  "kernelspec": {
   "display_name": "iaenv",
   "language": "python",
   "name": "iaenv"
  },
  "language_info": {
   "codemirror_mode": {
    "name": "ipython",
    "version": 3
   },
   "file_extension": ".py",
   "mimetype": "text/x-python",
   "name": "python",
   "nbconvert_exporter": "python",
   "pygments_lexer": "ipython3",
   "version": "3.7.5"
  }
 },
 "nbformat": 4,
 "nbformat_minor": 4
}
