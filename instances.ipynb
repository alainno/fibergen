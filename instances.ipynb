{
 "cells": [
  {
   "cell_type": "code",
   "execution_count": 1,
   "metadata": {},
   "outputs": [],
   "source": [
    "from functions import *"
   ]
  },
  {
   "cell_type": "code",
   "execution_count": 2,
   "metadata": {},
   "outputs": [
    {
     "name": "stdout",
     "output_type": "stream",
     "text": [
      "Successfully created the directory data/instance_segmentation/images/ \n",
      "Successfully created the directory data/instance_segmentation/masks/ \n"
     ]
    },
    {
     "data": {
      "text/plain": [
       "'\\ncreateSamplesAndVariableSkeletons(output_samples,\\n                                  output_skeletons,\\n                                  (256,256),\\n                                  500,\\n                                  (3,20),\\n                                  (10,20),\\n                                  \"png\",\\n                                  False)\\n'"
      ]
     },
     "execution_count": 2,
     "metadata": {},
     "output_type": "execute_result"
    }
   ],
   "source": [
    "output_samples = \"data/instance_segmentation/images/\"\n",
    "output_masks = \"data/instance_segmentation/masks/\"\n",
    "\n",
    "initDirectory(output_samples)\n",
    "initDirectory(output_masks)\n",
    "\n",
    "\n",
    "'''\n",
    "createSamplesAndVariableSkeletons(output_samples,\n",
    "                                  output_skeletons,\n",
    "                                  (256,256),\n",
    "                                  500,\n",
    "                                  (3,20),\n",
    "                                  (10,20),\n",
    "                                  \"png\",\n",
    "                                  False)\n",
    "'''                                "
   ]
  },
  {
   "cell_type": "code",
   "execution_count": 2,
   "metadata": {},
   "outputs": [
    {
     "data": {
      "text/plain": [
       "True"
      ]
     },
     "execution_count": 2,
     "metadata": {},
     "output_type": "execute_result"
    }
   ],
   "source": [
    "sample = FiberSample(256, 256, False)\n",
    "\n",
    "sample_size = (256,256)\n",
    "sample_fibers = (5,10)\n",
    "fiber_thickness = (3,15)\n",
    "\n",
    "sample_image = np.zeros((sample_size[0], sample_size[1], 3), np.uint8)\n",
    "mask_image = np.zeros((sample_size[0], sample_size[1], 3), np.uint8)\n",
    "        \n",
    "waves = sample.createRandomWaves(randint(sample_fibers[0],sample_fibers[1]))\n",
    "drawSampleAndMask(sample_image, mask_image, waves, fiber_thickness)\n",
    "    \n",
    "cv2.imwrite(\"_sample.png\", sample_image)\n",
    "cv2.imwrite(\"_mask.png\", mask_image)\n"
   ]
  },
  {
   "cell_type": "code",
   "execution_count": null,
   "metadata": {},
   "outputs": [],
   "source": [
    "createSamplesAndMasks(samples_dir=output_samples,\n",
    "                     masks_dir=output_masks,\n",
    "                     samples=10,\n",
    "                     sample_size=(256,256),\n",
    "                     sample_fibers=(5,10),\n",
    "                     fiber_thickness=(3,20))"
   ]
  }
 ],
 "metadata": {
  "kernelspec": {
   "display_name": "Python 3",
   "language": "python",
   "name": "python3"
  },
  "language_info": {
   "codemirror_mode": {
    "name": "ipython",
    "version": 3
   },
   "file_extension": ".py",
   "mimetype": "text/x-python",
   "name": "python",
   "nbconvert_exporter": "python",
   "pygments_lexer": "ipython3",
   "version": "3.7.5"
  }
 },
 "nbformat": 4,
 "nbformat_minor": 4
}
